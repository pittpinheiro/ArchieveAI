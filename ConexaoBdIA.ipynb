{
 "cells": [
  {
   "cell_type": "markdown",
   "id": "8697bd83",
   "metadata": {},
   "source": [
    "### Inicializar"
   ]
  },
  {
   "cell_type": "code",
   "execution_count": 4,
   "id": "4ca1eac1",
   "metadata": {},
   "outputs": [
    {
     "ename": "ModuleNotFoundError",
     "evalue": "No module named 'vanna.gemini'",
     "output_type": "error",
     "traceback": [
      "\u001b[31m---------------------------------------------------------------------------\u001b[39m",
      "\u001b[31mModuleNotFoundError\u001b[39m                       Traceback (most recent call last)",
      "\u001b[36mCell\u001b[39m\u001b[36m \u001b[39m\u001b[32mIn[4]\u001b[39m\u001b[32m, line 1\u001b[39m\n\u001b[32m----> \u001b[39m\u001b[32m1\u001b[39m \u001b[38;5;28;01mfrom\u001b[39;00m\u001b[38;5;250m \u001b[39m\u001b[34;01mvanna\u001b[39;00m\u001b[34;01m.\u001b[39;00m\u001b[34;01mgemini\u001b[39;00m\u001b[38;5;250m \u001b[39m\u001b[38;5;28;01mimport\u001b[39;00m GeminiChat\n\u001b[32m      2\u001b[39m \u001b[38;5;28;01mfrom\u001b[39;00m\u001b[38;5;250m \u001b[39m\u001b[34;01mqdrant_client\u001b[39;00m\u001b[38;5;250m \u001b[39m\u001b[38;5;28;01mimport\u001b[39;00m QdrantClient\n\u001b[32m      3\u001b[39m \u001b[38;5;28;01mfrom\u001b[39;00m\u001b[38;5;250m \u001b[39m\u001b[34;01mvanna\u001b[39;00m\u001b[34;01m.\u001b[39;00m\u001b[34;01mqdrant\u001b[39;00m\u001b[38;5;250m \u001b[39m\u001b[38;5;28;01mimport\u001b[39;00m Qdrant_VectorStore\n",
      "\u001b[31mModuleNotFoundError\u001b[39m: No module named 'vanna.gemini'"
     ]
    }
   ],
   "source": [
    "from vanna.gemini import GeminiChat\n",
    "from qdrant_client import QdrantClient\n",
    "from vanna.qdrant import Qdrant_VectorStore\n",
    "import os"
   ]
  },
  {
   "cell_type": "code",
   "execution_count": null,
   "id": "43392663",
   "metadata": {},
   "outputs": [],
   "source": [
    "client = QdrantClient(url=\"http://localhost:6333\")"
   ]
  },
  {
   "cell_type": "code",
   "execution_count": null,
   "id": "6b891a64",
   "metadata": {},
   "outputs": [],
   "source": [
    "class MyVanna(Qdrant_VectorStore, GeminiChat):\n",
    "    def __init__(self, config=None):\n",
    "        Qdrant_VectorStore.__init__(self, config=config)\n",
    "        GeminiChat.__init__(self, config=config)"
   ]
  },
  {
   "cell_type": "code",
   "execution_count": null,
   "id": "47c5d868",
   "metadata": {},
   "outputs": [],
   "source": [
    "vn = MyVanna(config={'client': client, 'api_key': os.environ.get(\"GEMINI_API_KEY\")})"
   ]
  },
  {
   "cell_type": "code",
   "execution_count": null,
   "id": "e4473166",
   "metadata": {},
   "outputs": [],
   "source": [
    "vn.connect_to_sqlite(r\"C:\\Users\\peter\\Desktop\\Programação\\Vibe\\Livros.sql\")"
   ]
  },
  {
   "cell_type": "markdown",
   "id": "c1d17fb2",
   "metadata": {},
   "source": [
    "### Treinamento"
   ]
  },
  {
   "cell_type": "code",
   "execution_count": null,
   "id": "c9126401",
   "metadata": {},
   "outputs": [],
   "source": [
    "vn.train(sql=\"select * from Livros\")"
   ]
  },
  {
   "cell_type": "code",
   "execution_count": null,
   "id": "3d5fc446",
   "metadata": {},
   "outputs": [],
   "source": [
    "vn.get_training_data()"
   ]
  },
  {
   "cell_type": "markdown",
   "id": "9ce8914c",
   "metadata": {},
   "source": [
    "### Querys e Respostas"
   ]
  },
  {
   "cell_type": "code",
   "execution_count": null,
   "id": "2533c6fc",
   "metadata": {},
   "outputs": [],
   "source": []
  }
 ],
 "metadata": {
  "kernelspec": {
   "display_name": "Livros.venv (3.13.7)",
   "language": "python",
   "name": "python3"
  },
  "language_info": {
   "codemirror_mode": {
    "name": "ipython",
    "version": 3
   },
   "file_extension": ".py",
   "mimetype": "text/x-python",
   "name": "python",
   "nbconvert_exporter": "python",
   "pygments_lexer": "ipython3",
   "version": "3.13.7"
  }
 },
 "nbformat": 4,
 "nbformat_minor": 5
}
