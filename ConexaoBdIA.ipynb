{
 "cells": [
  {
   "cell_type": "markdown",
   "id": "8697bd83",
   "metadata": {},
   "source": [
    "### Inicializar"
   ]
  },
  {
   "cell_type": "code",
   "execution_count": null,
   "id": "4ca1eac1",
   "metadata": {
    "vscode": {
     "languageId": "plaintext"
    }
   },
   "outputs": [],
   "source": [
    "from vanna.ollama import Ollama\n",
    "from qdrant_client import QdrantClient\n",
    "from vanna.qdrant import Qdrant_VectorStore"
   ]
  },
  {
   "cell_type": "code",
   "execution_count": null,
   "id": "43392663",
   "metadata": {
    "vscode": {
     "languageId": "plaintext"
    }
   },
   "outputs": [],
   "source": [
    "client = QdrantClient(url=\"http://localhost:6333\")"
   ]
  },
  {
   "cell_type": "code",
   "execution_count": null,
   "id": "6b891a64",
   "metadata": {
    "vscode": {
     "languageId": "plaintext"
    }
   },
   "outputs": [],
   "source": [
    "class MyVanna(Qdrant_VectorStore, Ollama):\n",
    "    def __init__(self, config=None):\n",
    "        Qdrant_VectorStore.__init__(self, config=config)\n",
    "        Ollama.__init__(self, config=config)"
   ]
  },
  {
   "cell_type": "code",
   "execution_count": null,
   "id": "47c5d868",
   "metadata": {
    "vscode": {
     "languageId": "plaintext"
    }
   },
   "outputs": [],
   "source": [
    "vn = MyVanna(config={'client': client, 'model': 'mistral'})"
   ]
  },
  {
   "cell_type": "code",
   "execution_count": null,
   "id": "e4473166",
   "metadata": {
    "vscode": {
     "languageId": "plaintext"
    }
   },
   "outputs": [],
   "source": [
    "vn.connect_to_sqlite(r\"C:\\Users\\peter\\Desktop\\Programação\\Vibe\\Livros.sql\")"
   ]
  },
  {
   "cell_type": "markdown",
   "id": "c1d17fb2",
   "metadata": {},
   "source": [
    "### Treinamento"
   ]
  },
  {
   "cell_type": "code",
   "execution_count": null,
   "id": "c9126401",
   "metadata": {
    "vscode": {
     "languageId": "plaintext"
    }
   },
   "outputs": [],
   "source": [
    "vn.train(sql=\"select * from Livros\")"
   ]
  },
  {
   "cell_type": "code",
   "execution_count": null,
   "id": "3d5fc446",
   "metadata": {
    "vscode": {
     "languageId": "plaintext"
    }
   },
   "outputs": [],
   "source": [
    "vn.get_training_data()"
   ]
  },
  {
   "cell_type": "markdown",
   "id": "9ce8914c",
   "metadata": {},
   "source": [
    "### Querys e Respostas"
   ]
  },
  {
   "cell_type": "code",
   "execution_count": null,
   "id": "2533c6fc",
   "metadata": {
    "vscode": {
     "languageId": "plaintext"
    }
   },
   "outputs": [],
   "source": []
  }
 ],
 "metadata": {
  "language_info": {
   "name": "python"
  }
 },
 "nbformat": 4,
 "nbformat_minor": 5
}
